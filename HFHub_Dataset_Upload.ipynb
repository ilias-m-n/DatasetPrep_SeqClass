{
 "cells": [
  {
   "cell_type": "markdown",
   "id": "ae3a2bdd-cf4d-45c9-9d37-b48870c33cd8",
   "metadata": {},
   "source": [
    "# Import packages"
   ]
  },
  {
   "cell_type": "code",
   "execution_count": 7,
   "id": "a03249b3-e4df-4b76-b061-7017e6797eb5",
   "metadata": {},
   "outputs": [],
   "source": [
    "from datasets import Dataset, DatasetDict, load_from_disk\n",
    "from huggingface_hub import login\n",
    "import os\n",
    "from functools import cache, lru_cache"
   ]
  },
  {
   "cell_type": "markdown",
   "id": "a6b14d06-d3ec-4c56-ab65-96fc12670618",
   "metadata": {},
   "source": [
    "# Config"
   ]
  },
  {
   "cell_type": "code",
   "execution_count": 8,
   "id": "0bf32d11-0573-42a8-94bb-4020439541b5",
   "metadata": {},
   "outputs": [],
   "source": [
    "# name of local dataset_dict file\n",
    "_name_dataset = \"German_ConsUncons\"\n",
    "# user name on HF Hub\n",
    "_user = \"HalaJada\"\n",
    "# dataset name for HF Hub\n",
    "_name_HF = \"FinStmts_ConsUncons_German_SeqClass\""
   ]
  },
  {
   "cell_type": "markdown",
   "id": "a42e66b4-1220-4e55-afea-da3afd6f2b5d",
   "metadata": {},
   "source": [
    "# Directory and File paths"
   ]
  },
  {
   "cell_type": "code",
   "execution_count": 9,
   "id": "52f51c5f-6c34-4734-abc0-606da30a95db",
   "metadata": {},
   "outputs": [],
   "source": [
    "# set to directory of notebook\n",
    "cwd = os.getcwd()\n",
    "\n",
    "# path dataset dicts\n",
    "path_dataset_dict = os.path.join(cwd, \"datasets\", _name_dataset)"
   ]
  },
  {
   "cell_type": "markdown",
   "id": "56f7838e-8292-42cd-a246-f00453c9b569",
   "metadata": {},
   "source": [
    "# Load dataset"
   ]
  },
  {
   "cell_type": "code",
   "execution_count": 10,
   "id": "0c79821d-9de2-4769-9fe3-966e1c513474",
   "metadata": {},
   "outputs": [],
   "source": [
    "dataset_dict = load_from_disk(path_dataset_dict)"
   ]
  },
  {
   "cell_type": "markdown",
   "id": "151e068d-a9e6-41d7-9330-b91c50c29013",
   "metadata": {},
   "source": [
    "# Upload dataset to HF hub"
   ]
  },
  {
   "cell_type": "markdown",
   "id": "6379a702-75e0-4ad1-a896-2367f66daefe",
   "metadata": {},
   "source": [
    "## Login to HFHub"
   ]
  },
  {
   "cell_type": "code",
   "execution_count": 12,
   "id": "73e5fe07-ad3e-4e68-84f3-58168a5c7886",
   "metadata": {},
   "outputs": [
    {
     "data": {
      "application/vnd.jupyter.widget-view+json": {
       "model_id": "0e5b119958d64cd4a5cc3c4380846ff7",
       "version_major": 2,
       "version_minor": 0
      },
      "text/plain": [
       "VBox(children=(HTML(value='<center> <img\\nsrc=https://huggingface.co/front/assets/huggingface_logo-noborder.sv…"
      ]
     },
     "metadata": {},
     "output_type": "display_data"
    }
   ],
   "source": [
    "login()"
   ]
  },
  {
   "cell_type": "markdown",
   "id": "55c7f338-c72d-4ba0-bc61-2703eae364bb",
   "metadata": {},
   "source": [
    "# Upload Data"
   ]
  },
  {
   "cell_type": "code",
   "execution_count": 13,
   "id": "29356435-c5d4-4a96-9dd7-654659fb50db",
   "metadata": {},
   "outputs": [
    {
     "data": {
      "application/vnd.jupyter.widget-view+json": {
       "model_id": "de31b62c6d4b445cbccdd07ee3254962",
       "version_major": 2,
       "version_minor": 0
      },
      "text/plain": [
       "Uploading the dataset shards:   0%|          | 0/3 [00:00<?, ?it/s]"
      ]
     },
     "metadata": {},
     "output_type": "display_data"
    },
    {
     "data": {
      "application/vnd.jupyter.widget-view+json": {
       "model_id": "3479d95eff4d41ec9080a39fb520a52b",
       "version_major": 2,
       "version_minor": 0
      },
      "text/plain": [
       "Creating parquet from Arrow format:   0%|          | 0/2 [00:00<?, ?ba/s]"
      ]
     },
     "metadata": {},
     "output_type": "display_data"
    },
    {
     "data": {
      "application/vnd.jupyter.widget-view+json": {
       "model_id": "db9030fd05de4dd68ea7649b573dab5e",
       "version_major": 2,
       "version_minor": 0
      },
      "text/plain": [
       "Creating parquet from Arrow format:   0%|          | 0/2 [00:00<?, ?ba/s]"
      ]
     },
     "metadata": {},
     "output_type": "display_data"
    },
    {
     "data": {
      "application/vnd.jupyter.widget-view+json": {
       "model_id": "e6fc4d1203184ad9aedf84cc42a1b07d",
       "version_major": 2,
       "version_minor": 0
      },
      "text/plain": [
       "Creating parquet from Arrow format:   0%|          | 0/2 [00:00<?, ?ba/s]"
      ]
     },
     "metadata": {},
     "output_type": "display_data"
    },
    {
     "data": {
      "application/vnd.jupyter.widget-view+json": {
       "model_id": "64866ff6a9cb43479586cf1d7d6d10ee",
       "version_major": 2,
       "version_minor": 0
      },
      "text/plain": [
       "Uploading the dataset shards:   0%|          | 0/1 [00:00<?, ?it/s]"
      ]
     },
     "metadata": {},
     "output_type": "display_data"
    },
    {
     "data": {
      "application/vnd.jupyter.widget-view+json": {
       "model_id": "b1ee4046dd0049d596c48c1ac0d6b787",
       "version_major": 2,
       "version_minor": 0
      },
      "text/plain": [
       "Creating parquet from Arrow format:   0%|          | 0/2 [00:00<?, ?ba/s]"
      ]
     },
     "metadata": {},
     "output_type": "display_data"
    },
    {
     "data": {
      "application/vnd.jupyter.widget-view+json": {
       "model_id": "cc3287996f2a43249057b02951d78f6e",
       "version_major": 2,
       "version_minor": 0
      },
      "text/plain": [
       "Uploading the dataset shards:   0%|          | 0/1 [00:00<?, ?it/s]"
      ]
     },
     "metadata": {},
     "output_type": "display_data"
    },
    {
     "data": {
      "application/vnd.jupyter.widget-view+json": {
       "model_id": "13434b715cc9440a89b6760dd2037392",
       "version_major": 2,
       "version_minor": 0
      },
      "text/plain": [
       "Creating parquet from Arrow format:   0%|          | 0/2 [00:00<?, ?ba/s]"
      ]
     },
     "metadata": {},
     "output_type": "display_data"
    },
    {
     "data": {
      "application/vnd.jupyter.widget-view+json": {
       "model_id": "a9b19c8683384d5ab0a3334c00a97cde",
       "version_major": 2,
       "version_minor": 0
      },
      "text/plain": [
       "README.md:   0%|          | 0.00/563 [00:00<?, ?B/s]"
      ]
     },
     "metadata": {},
     "output_type": "display_data"
    },
    {
     "name": "stderr",
     "output_type": "stream",
     "text": [
      "C:\\Users\\ilias\\envs\\venv_ml_bert\\lib\\site-packages\\huggingface_hub\\file_download.py:149: UserWarning: `huggingface_hub` cache-system uses symlinks by default to efficiently store duplicated files but your machine does not support them in C:\\Users\\ilias\\.cache\\huggingface\\hub\\datasets--HalaJada--FinStmts_ConsUncons_German_SeqClass. Caching files will still work but in a degraded version that might require more space on your disk. This warning can be disabled by setting the `HF_HUB_DISABLE_SYMLINKS_WARNING` environment variable. For more details, see https://huggingface.co/docs/huggingface_hub/how-to-cache#limitations.\n",
      "To support symlinks on Windows, you either need to activate Developer Mode or to run Python as an administrator. In order to see activate developer mode, see this article: https://docs.microsoft.com/en-us/windows/apps/get-started/enable-your-device-for-development\n",
      "  warnings.warn(message)\n"
     ]
    },
    {
     "data": {
      "text/plain": [
       "CommitInfo(commit_url='https://huggingface.co/datasets/HalaJada/FinStmts_ConsUncons_German_SeqClass/commit/2e761520fc2288695f9eb4fa1af7470859afdb3d', commit_message='Upload dataset', commit_description='', oid='2e761520fc2288695f9eb4fa1af7470859afdb3d', pr_url=None, pr_revision=None, pr_num=None)"
      ]
     },
     "execution_count": 13,
     "metadata": {},
     "output_type": "execute_result"
    }
   ],
   "source": [
    "dataset_dict.push_to_hub(_user + \"/\" + _name_HF)"
   ]
  }
 ],
 "metadata": {
  "kernelspec": {
   "display_name": "venv_ml_bert",
   "language": "python",
   "name": "venv_ml_bert"
  },
  "language_info": {
   "codemirror_mode": {
    "name": "ipython",
    "version": 3
   },
   "file_extension": ".py",
   "mimetype": "text/x-python",
   "name": "python",
   "nbconvert_exporter": "python",
   "pygments_lexer": "ipython3",
   "version": "3.9.5"
  }
 },
 "nbformat": 4,
 "nbformat_minor": 5
}
