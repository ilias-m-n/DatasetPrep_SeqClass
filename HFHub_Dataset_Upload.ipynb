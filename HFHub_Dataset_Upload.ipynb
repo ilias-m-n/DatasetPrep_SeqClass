{
 "cells": [
  {
   "cell_type": "markdown",
   "id": "ae3a2bdd-cf4d-45c9-9d37-b48870c33cd8",
   "metadata": {},
   "source": [
    "# Import packages"
   ]
  },
  {
   "cell_type": "code",
   "execution_count": 6,
   "id": "a03249b3-e4df-4b76-b061-7017e6797eb5",
   "metadata": {},
   "outputs": [],
   "source": [
    "from datasets import Dataset, DatasetDict, load_from_disk\n",
    "from huggingface_hub import login\n",
    "import os"
   ]
  },
  {
   "cell_type": "markdown",
   "id": "a6b14d06-d3ec-4c56-ab65-96fc12670618",
   "metadata": {},
   "source": [
    "# Config"
   ]
  },
  {
   "cell_type": "code",
   "execution_count": 14,
   "id": "0bf32d11-0573-42a8-94bb-4020439541b5",
   "metadata": {},
   "outputs": [],
   "source": [
    "# name of local dataset_dict file\n",
    "_name_dataset = \"French_ConsUncons\"\n",
    "# user name on HF Hub\n",
    "_user = \"IMN\"\n",
    "# dataset name for HF Hub\n",
    "_name_HF = \"FinStmt_ConsUncons_French\""
   ]
  },
  {
   "cell_type": "markdown",
   "id": "a42e66b4-1220-4e55-afea-da3afd6f2b5d",
   "metadata": {},
   "source": [
    "# Directory and File paths"
   ]
  },
  {
   "cell_type": "code",
   "execution_count": 9,
   "id": "52f51c5f-6c34-4734-abc0-606da30a95db",
   "metadata": {},
   "outputs": [],
   "source": [
    "# set to directory of notebook\n",
    "cwd = os.getcwd()\n",
    "\n",
    "# path dataset dicts\n",
    "path_dataset_dict = os.path.join(cwd, \"datasets\", _name_dataset)"
   ]
  },
  {
   "cell_type": "markdown",
   "id": "56f7838e-8292-42cd-a246-f00453c9b569",
   "metadata": {},
   "source": [
    "# Load dataset"
   ]
  },
  {
   "cell_type": "code",
   "execution_count": 11,
   "id": "0c79821d-9de2-4769-9fe3-966e1c513474",
   "metadata": {},
   "outputs": [],
   "source": [
    "dataset_dict = load_from_disk(path_dataset_dict)"
   ]
  },
  {
   "cell_type": "markdown",
   "id": "151e068d-a9e6-41d7-9330-b91c50c29013",
   "metadata": {},
   "source": [
    "# Upload dataset to HF hub"
   ]
  },
  {
   "cell_type": "markdown",
   "id": "6379a702-75e0-4ad1-a896-2367f66daefe",
   "metadata": {},
   "source": [
    "## Login to HFHub"
   ]
  },
  {
   "cell_type": "code",
   "execution_count": 13,
   "id": "73e5fe07-ad3e-4e68-84f3-58168a5c7886",
   "metadata": {},
   "outputs": [
    {
     "data": {
      "application/vnd.jupyter.widget-view+json": {
       "model_id": "c077fa80121a443e94db053e9451b129",
       "version_major": 2,
       "version_minor": 0
      },
      "text/plain": [
       "VBox(children=(HTML(value='<center> <img\\nsrc=https://huggingface.co/front/assets/huggingface_logo-noborder.sv…"
      ]
     },
     "metadata": {},
     "output_type": "display_data"
    }
   ],
   "source": [
    "login()"
   ]
  },
  {
   "cell_type": "markdown",
   "id": "55c7f338-c72d-4ba0-bc61-2703eae364bb",
   "metadata": {},
   "source": [
    "# Upload Data"
   ]
  },
  {
   "cell_type": "code",
   "execution_count": 15,
   "id": "29356435-c5d4-4a96-9dd7-654659fb50db",
   "metadata": {},
   "outputs": [
    {
     "data": {
      "application/vnd.jupyter.widget-view+json": {
       "model_id": "c3bd67d0775645059b66ba4df3a68aeb",
       "version_major": 2,
       "version_minor": 0
      },
      "text/plain": [
       "Uploading the dataset shards:   0%|          | 0/2 [00:00<?, ?it/s]"
      ]
     },
     "metadata": {},
     "output_type": "display_data"
    },
    {
     "data": {
      "application/vnd.jupyter.widget-view+json": {
       "model_id": "cb8d0d62ef554979b75b773ee4240061",
       "version_major": 2,
       "version_minor": 0
      },
      "text/plain": [
       "Creating parquet from Arrow format:   0%|          | 0/2 [00:00<?, ?ba/s]"
      ]
     },
     "metadata": {},
     "output_type": "display_data"
    },
    {
     "data": {
      "application/vnd.jupyter.widget-view+json": {
       "model_id": "ff328d0a83944bb2a0a23d2b420450a5",
       "version_major": 2,
       "version_minor": 0
      },
      "text/plain": [
       "Creating parquet from Arrow format:   0%|          | 0/2 [00:00<?, ?ba/s]"
      ]
     },
     "metadata": {},
     "output_type": "display_data"
    },
    {
     "data": {
      "application/vnd.jupyter.widget-view+json": {
       "model_id": "52ba1f197d66492db71635b5ce37c035",
       "version_major": 2,
       "version_minor": 0
      },
      "text/plain": [
       "Uploading the dataset shards:   0%|          | 0/1 [00:00<?, ?it/s]"
      ]
     },
     "metadata": {},
     "output_type": "display_data"
    },
    {
     "data": {
      "application/vnd.jupyter.widget-view+json": {
       "model_id": "130775d33736472cab6a5011eb2b07b4",
       "version_major": 2,
       "version_minor": 0
      },
      "text/plain": [
       "Creating parquet from Arrow format:   0%|          | 0/1 [00:00<?, ?ba/s]"
      ]
     },
     "metadata": {},
     "output_type": "display_data"
    },
    {
     "data": {
      "application/vnd.jupyter.widget-view+json": {
       "model_id": "334a909f95174e799f0d026fe1ff8374",
       "version_major": 2,
       "version_minor": 0
      },
      "text/plain": [
       "Uploading the dataset shards:   0%|          | 0/1 [00:00<?, ?it/s]"
      ]
     },
     "metadata": {},
     "output_type": "display_data"
    },
    {
     "data": {
      "application/vnd.jupyter.widget-view+json": {
       "model_id": "354c7f4e8fa34276a9efd54708bf8223",
       "version_major": 2,
       "version_minor": 0
      },
      "text/plain": [
       "Creating parquet from Arrow format:   0%|          | 0/1 [00:00<?, ?ba/s]"
      ]
     },
     "metadata": {},
     "output_type": "display_data"
    },
    {
     "data": {
      "text/plain": [
       "CommitInfo(commit_url='https://huggingface.co/datasets/IMN/FinStmt_ConsUncons_French/commit/034d464259703f5c77e8fc980b2af7d4b807bafd', commit_message='Upload dataset', commit_description='', oid='034d464259703f5c77e8fc980b2af7d4b807bafd', pr_url=None, pr_revision=None, pr_num=None)"
      ]
     },
     "execution_count": 15,
     "metadata": {},
     "output_type": "execute_result"
    }
   ],
   "source": [
    "dataset_dict.push_to_hub(_user + \"/\" + _name_HF)"
   ]
  }
 ],
 "metadata": {
  "kernelspec": {
   "display_name": "venv_ml_bert",
   "language": "python",
   "name": "venv_ml_bert"
  },
  "language_info": {
   "codemirror_mode": {
    "name": "ipython",
    "version": 3
   },
   "file_extension": ".py",
   "mimetype": "text/x-python",
   "name": "python",
   "nbconvert_exporter": "python",
   "pygments_lexer": "ipython3",
   "version": "3.9.5"
  }
 },
 "nbformat": 4,
 "nbformat_minor": 5
}
