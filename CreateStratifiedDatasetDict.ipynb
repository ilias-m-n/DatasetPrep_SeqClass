{
 "cells": [
  {
   "cell_type": "markdown",
   "id": "d62900e5-cdd6-4d4a-91a7-161edc70e7fc",
   "metadata": {},
   "source": [
    "# Package Imports"
   ]
  },
  {
   "cell_type": "code",
   "execution_count": 1,
   "id": "40d9af5f-a035-4d81-aa59-265134af14a5",
   "metadata": {},
   "outputs": [
    {
     "data": {
      "text/html": [
       "<style>.container { width:95% !important; }</style>"
      ],
      "text/plain": [
       "<IPython.core.display.HTML object>"
      ]
     },
     "metadata": {},
     "output_type": "display_data"
    }
   ],
   "source": [
    "import os\n",
    "import re\n",
    "import glob\n",
    "import numpy as np\n",
    "import pandas as pd\n",
    "from collections import Counter\n",
    "from transformers import (AutoTokenizer,)\n",
    "from datasets import Dataset, DatasetDict, Features, ClassLabel, Value, concatenate_datasets\n",
    "from huggingface_hub import login\n",
    "\n",
    "import utility.utility as util\n",
    "\n",
    "# Below import and instructions simply for display\n",
    "from IPython.display import display, HTML\n",
    "display(HTML(\"<style>.container { width:95% !important; }</style>\"))\n",
    "\n",
    "# resets import once changes have been applied\n",
    "%load_ext autoreload\n",
    "%autoreload 2"
   ]
  },
  {
   "cell_type": "markdown",
   "id": "c103af11-3c79-494b-b2b7-c9bcd7a76b2e",
   "metadata": {},
   "source": [
    "# Configuration:"
   ]
  },
  {
   "cell_type": "code",
   "execution_count": 2,
   "id": "4b2cf36a-bc11-448c-bccf-ba07657124af",
   "metadata": {},
   "outputs": [],
   "source": [
    "# path to root directory\n",
    "path_cwd = os.getcwd()\n",
    "\n",
    "# name of folder with raw dataset\n",
    "_name_raw_dataset_dir = \"french_german\"\n",
    "\n",
    "# name for processed dataset dict\n",
    "_name_datasetdict = \"test_fr_ger_da\"\n",
    "\n",
    "# path to directory with raw datasets\n",
    "path_raw_dataset = os.path.join(path_cwd, \"raw_data\", _name_raw_dataset_dir)\n",
    "\n",
    "# path to directory with datasetdicts\n",
    "path_datasetdict = os.path.join(path_cwd, \"datasets\", _name_datasetdict)\n",
    "\n",
    "# set column names for columns containing micro classes and their data types over which to stratify\n",
    "_micro_strat_labels = {\"language\":\"string\", \"year\":\"string\"}\n",
    "\n",
    "# set split sizes\n",
    "_split_sizes = {\"train\":.7, \"val\":.15, \"test\":.15}\n",
    "\n",
    "# file format to parse - currently not needed, incase different parsing schemes provided\n",
    "_file_format = \".txt\"\n",
    "\n",
    "# random number generator seed\n",
    "_seed = 10"
   ]
  },
  {
   "cell_type": "markdown",
   "id": "36bca84b-f59b-4eb9-9b98-d73f06088309",
   "metadata": {},
   "source": [
    "# Set file paths to class folders and if present meta excel file"
   ]
  },
  {
   "cell_type": "code",
   "execution_count": 3,
   "id": "00c55b39-ed63-4373-9f5b-ff312bd116f7",
   "metadata": {},
   "outputs": [],
   "source": [
    "paths_class_dirs = {}\n",
    "meta_file = None\n",
    "labels = []\n",
    "\n",
    "for item in os.listdir(path_raw_dataset):\n",
    "    if item.endswith(\".csv\"):\n",
    "        meta_file = os.path.join(path_raw_dataset, item)\n",
    "    else:\n",
    "        paths_class_dirs[item] = os.path.join(path_raw_dataset, item)\n",
    "        labels.append(item)"
   ]
  },
  {
   "cell_type": "markdown",
   "id": "5fa3e8aa-3177-460b-9919-0510c521a21c",
   "metadata": {},
   "source": [
    "# Set label ids\n",
    "\n",
    "Note, if you want specific labels to represent specific integers adjust below variable \"label2id\", otherwise they are set randomly"
   ]
  },
  {
   "cell_type": "code",
   "execution_count": 4,
   "id": "2c057699-6255-43f2-a6f7-72a4b35202ba",
   "metadata": {},
   "outputs": [],
   "source": [
    "label2id = {l:id for id, l in enumerate(labels)}\n",
    "# manual adjust\n",
    "label2id = {\"cons\":1, \"uncons\":0}"
   ]
  },
  {
   "cell_type": "code",
   "execution_count": 5,
   "id": "bf83428d-d5fe-4f77-ac18-540ce3f7c75e",
   "metadata": {},
   "outputs": [],
   "source": [
    "id2label = {v:k for k, v in label2id.items()}"
   ]
  },
  {
   "cell_type": "markdown",
   "id": "bd9da947-ce79-4829-99c0-e87e28758f01",
   "metadata": {},
   "source": [
    "Adjust label to integer value in dataframe"
   ]
  },
  {
   "cell_type": "markdown",
   "id": "95d3c5ee-1215-4156-9363-1640531281a0",
   "metadata": {},
   "source": [
    "# Parse Class Folders"
   ]
  },
  {
   "cell_type": "code",
   "execution_count": 6,
   "id": "2831fe7b-1551-4e71-aaa3-2d1ead7627d7",
   "metadata": {},
   "outputs": [],
   "source": [
    "paths_class_files = {}\n",
    "\n",
    "for _class in paths_class_dirs:\n",
    "    paths_class_files[_class] = []\n",
    "    for item in os.listdir(paths_class_dirs[_class]):\n",
    "        paths_class_files[_class].append(item)"
   ]
  },
  {
   "cell_type": "markdown",
   "id": "95fc3744-fc84-4b23-8d98-712eb3a69934",
   "metadata": {},
   "source": [
    "# Create Data DataFrame"
   ]
  },
  {
   "cell_type": "code",
   "execution_count": 7,
   "id": "6c852e97-681e-4f68-bd53-ec9b9ca5bba7",
   "metadata": {},
   "outputs": [],
   "source": [
    "data_df = pd.DataFrame()\n",
    "\n",
    "for _class in paths_class_files:\n",
    "    tmp = pd.DataFrame({\"filename\":paths_class_files[_class]})\n",
    "    tmp[\"label\"] = label2id[_class]\n",
    "    tmp[\"filepath\"] = tmp.apply(lambda x: os.path.join(paths_class_dirs[_class], x[\"filename\"]), axis=1)\n",
    "    data_df = pd.concat([data_df, tmp])"
   ]
  },
  {
   "cell_type": "markdown",
   "id": "1443b4b9-98ab-49d5-9b1a-104b1415f4ce",
   "metadata": {},
   "source": [
    "# If present, read meta file and merge with data"
   ]
  },
  {
   "cell_type": "code",
   "execution_count": 8,
   "id": "391b70d1-ba7b-4608-83a5-67ea2403fc23",
   "metadata": {},
   "outputs": [],
   "source": [
    "meta_df = None\n",
    "if meta_file:\n",
    "    meta_df = pd.read_csv(meta_file)\n",
    "    meta_df = meta_df[[\"filename\"] + list(_micro_strat_labels.keys())].copy()\n",
    "    meta_df[\"filename\"] = meta_df[\"filename\"].astype(str)\n",
    "    # note adjust this if file format variable and we cleared up on how to standardize input format\n",
    "    meta_df[\"filename\"] = meta_df[\"filename\"] + \".txt\"\n",
    "    data_df = pd.merge(data_df, meta_df, on= \"filename\", how=\"inner\")"
   ]
  },
  {
   "cell_type": "markdown",
   "id": "68335e25-f7d3-4d9e-8af4-3f1f42828052",
   "metadata": {},
   "source": [
    "# Ratio of Label Classes:"
   ]
  },
  {
   "cell_type": "code",
   "execution_count": 9,
   "id": "ddf9512a-eb64-4f21-855b-83e48a3f9933",
   "metadata": {},
   "outputs": [
    {
     "data": {
      "text/plain": [
       "{1: 0.8655044458447105, 0: 0.1344955541552895}"
      ]
     },
     "execution_count": 9,
     "metadata": {},
     "output_type": "execute_result"
    }
   ],
   "source": [
    "counts = Counter(data_df.label)\n",
    "total = sum(counts.values())\n",
    "{c:counts[c]/total for c in counts}"
   ]
  },
  {
   "cell_type": "markdown",
   "id": "2c05c42a-eab4-4e00-8521-cd56fecdcdc5",
   "metadata": {},
   "source": [
    " # Create Data Splits"
   ]
  },
  {
   "cell_type": "code",
   "execution_count": 10,
   "id": "515a35e8-46cc-49e7-907b-01a1c6b6b45b",
   "metadata": {},
   "outputs": [],
   "source": [
    "datasets = util.create_stratified_split(data_df, split_sizes=_split_sizes, micro_labels=list(_micro_strat_labels.keys()), seed=_seed)"
   ]
  },
  {
   "cell_type": "markdown",
   "id": "090079a3-f4d8-4ee1-9a33-2b54288afa5d",
   "metadata": {},
   "source": [
    "# Parse Text Files"
   ]
  },
  {
   "cell_type": "code",
   "execution_count": 11,
   "id": "0656e30f-7e16-45a0-90b7-9b02dfa09369",
   "metadata": {},
   "outputs": [],
   "source": [
    "for split in datasets:\n",
    "    datasets[split][\"text\"] = datasets[split][\"filepath\"].apply(util.parse_txt)\n",
    "    datasets[split].drop([\"filepath\"] + list(_micro_strat_labels), axis = 1, inplace=True)\n",
    "    datasets[split].dropna(subset=[\"text\"], inplace=True)\n",
    "    datasets[split].reset_index(drop=True, inplace=True)"
   ]
  },
  {
   "cell_type": "markdown",
   "id": "f803becd-6034-46ee-ac45-9cc431c7a5d8",
   "metadata": {},
   "source": [
    "# Adjust data types"
   ]
  },
  {
   "cell_type": "code",
   "execution_count": 12,
   "id": "47b964e1-92eb-417c-a044-3b2692f50dd4",
   "metadata": {},
   "outputs": [],
   "source": [
    "for split in datasets:\n",
    "    datasets[split][\"text\"] = datasets[split][\"text\"].astype(\"string\")\n",
    "    datasets[split][\"filename\"] = datasets[split][\"filename\"].astype(\"string\")"
   ]
  },
  {
   "cell_type": "markdown",
   "id": "cf2e42f5-42a2-492a-892a-1c1669cd0bcc",
   "metadata": {},
   "source": [
    "# Create DatasetDict"
   ]
  },
  {
   "cell_type": "code",
   "execution_count": 13,
   "id": "153186c6-b8e9-4fa0-9b39-fd6529625f7a",
   "metadata": {},
   "outputs": [],
   "source": [
    "class_names = [id2label[i] for i in range(len(id2label.keys()))]\n",
    "features = Features({\n",
    "    \"filename\": Value(\"string\"),\n",
    "    \"text\": Value(\"string\"),\n",
    "    \"label\": ClassLabel(names = class_names),\n",
    "})"
   ]
  },
  {
   "cell_type": "code",
   "execution_count": 14,
   "id": "3bfdd0ff-0f23-4738-86e9-66c21e052b7f",
   "metadata": {},
   "outputs": [],
   "source": [
    "datasetdict = util.create_dataset_dict(datasets, features)"
   ]
  },
  {
   "cell_type": "code",
   "execution_count": 15,
   "id": "126be926-aef1-42c7-950b-874f4f1aec3f",
   "metadata": {},
   "outputs": [
    {
     "data": {
      "text/plain": [
       "DatasetDict({\n",
       "    train: Dataset({\n",
       "        features: ['filename', 'text', 'label'],\n",
       "        num_rows: 9987\n",
       "    })\n",
       "    val: Dataset({\n",
       "        features: ['filename', 'text', 'label'],\n",
       "        num_rows: 2134\n",
       "    })\n",
       "    test: Dataset({\n",
       "        features: ['filename', 'text', 'label'],\n",
       "        num_rows: 2138\n",
       "    })\n",
       "})"
      ]
     },
     "execution_count": 15,
     "metadata": {},
     "output_type": "execute_result"
    }
   ],
   "source": [
    "datasetdict"
   ]
  },
  {
   "cell_type": "markdown",
   "id": "5a24dfad-e3dc-46a9-8749-2b662add9a2a",
   "metadata": {},
   "source": [
    "# Save DatasetDict"
   ]
  },
  {
   "cell_type": "code",
   "execution_count": 16,
   "id": "8a3577a5-1b6f-4c37-83dc-42c8466a7f7a",
   "metadata": {},
   "outputs": [
    {
     "data": {
      "application/vnd.jupyter.widget-view+json": {
       "model_id": "2c283d3009b84a07aaf48a949dffd667",
       "version_major": 2,
       "version_minor": 0
      },
      "text/plain": [
       "Saving the dataset (0/5 shards):   0%|          | 0/9987 [00:00<?, ? examples/s]"
      ]
     },
     "metadata": {},
     "output_type": "display_data"
    },
    {
     "data": {
      "application/vnd.jupyter.widget-view+json": {
       "model_id": "81e16101baf543df87c9edeac89d375f",
       "version_major": 2,
       "version_minor": 0
      },
      "text/plain": [
       "Saving the dataset (0/2 shards):   0%|          | 0/2134 [00:00<?, ? examples/s]"
      ]
     },
     "metadata": {},
     "output_type": "display_data"
    },
    {
     "data": {
      "application/vnd.jupyter.widget-view+json": {
       "model_id": "2c46f399d6324fc6aa8a5fd2577a4b74",
       "version_major": 2,
       "version_minor": 0
      },
      "text/plain": [
       "Saving the dataset (0/2 shards):   0%|          | 0/2138 [00:00<?, ? examples/s]"
      ]
     },
     "metadata": {},
     "output_type": "display_data"
    }
   ],
   "source": [
    "datasetdict.save_to_disk(path_datasetdict)"
   ]
  }
 ],
 "metadata": {
  "kernelspec": {
   "display_name": "venv_ml_bert",
   "language": "python",
   "name": "venv_ml_bert"
  },
  "language_info": {
   "codemirror_mode": {
    "name": "ipython",
    "version": 3
   },
   "file_extension": ".py",
   "mimetype": "text/x-python",
   "name": "python",
   "nbconvert_exporter": "python",
   "pygments_lexer": "ipython3",
   "version": "3.9.5"
  }
 },
 "nbformat": 4,
 "nbformat_minor": 5
}
