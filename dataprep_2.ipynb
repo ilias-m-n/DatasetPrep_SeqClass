{
 "cells": [
  {
   "cell_type": "markdown",
   "id": "4af35222-1984-4df1-abd9-88880d61c316",
   "metadata": {},
   "source": [
    "# Import Packages"
   ]
  },
  {
   "cell_type": "code",
   "execution_count": 112,
   "id": "4c065b0c-98fa-4890-ac22-555a5fb1f506",
   "metadata": {},
   "outputs": [
    {
     "data": {
      "text/html": [
       "<style>.container { width:95% !important; }</style>"
      ],
      "text/plain": [
       "<IPython.core.display.HTML object>"
      ]
     },
     "metadata": {},
     "output_type": "display_data"
    },
    {
     "name": "stdout",
     "output_type": "stream",
     "text": [
      "The autoreload extension is already loaded. To reload it, use:\n",
      "  %reload_ext autoreload\n"
     ]
    }
   ],
   "source": [
    "import os\n",
    "import re\n",
    "import numpy as np\n",
    "import pandas as pd\n",
    "from collections import Counter\n",
    "from transformers import (AutoTokenizer,)\n",
    "from datasets import Dataset, DatasetDict\n",
    "from huggingface_hub import login\n",
    "\n",
    "import utility.utility as util\n",
    "\n",
    "# Below import and instructions simply for display\n",
    "from IPython.display import display, HTML\n",
    "display(HTML(\"<style>.container { width:95% !important; }</style>\"))\n",
    "\n",
    "# resets import once changes have been applied\n",
    "%load_ext autoreload\n",
    "%autoreload 2"
   ]
  },
  {
   "cell_type": "markdown",
   "id": "25037171-ae78-4a40-b203-e975bfafa8eb",
   "metadata": {},
   "source": [
    "# Config"
   ]
  },
  {
   "cell_type": "code",
   "execution_count": 86,
   "id": "acf06cf1-5771-4a12-a56a-32db021c6ff6",
   "metadata": {},
   "outputs": [],
   "source": [
    "# name directory with desired raw data\n",
    "_name_dir_raw_data = \"english\"\n",
    "\n",
    "# name meta file - note this file needs to be within the folder with the raw data files (text, json, etc.)\n",
    "_name_meta_file = \"data.xlsx\"\n",
    "\n",
    "# name to be used for dataset and resepctive folder\n",
    "_name_dataset_and_folder = \"english_uncons_cons\"\n",
    "\n",
    "# columns of interest\n",
    "_coi = [\"filename\", \"label\"]\n",
    "\n",
    "# label column name\n",
    "_col_label = \"label\"\n",
    "\n",
    "# column with filepath to text file\n",
    "_col_file = \"filename\"\n",
    "\n",
    "# split sizes - proportion of each dataset (e.g., training, validation/hold-out, test)\n",
    "_split_sizes = {\"train\": .7, \"validation\": .15, \"test\": .15}\n",
    "\n",
    "# random state/seed for random number generator\n",
    "_seed = 10"
   ]
  },
  {
   "cell_type": "markdown",
   "id": "ecd8d29d-9646-4ee2-a789-e4a30df433b4",
   "metadata": {},
   "source": [
    "# Directory and file paths"
   ]
  },
  {
   "cell_type": "code",
   "execution_count": 87,
   "id": "838deec6-b07a-4853-8c69-56a5990f7abf",
   "metadata": {},
   "outputs": [],
   "source": [
    "# CWD\n",
    "path_cwd = os.getcwd()\n",
    "\n",
    "\"\"\"\n",
    "Directory paths\n",
    "\"\"\"\n",
    "# path raw data directory\n",
    "path_raw_data = os.path.join(path_cwd, \"raw_data\", _name_dir_raw_data)\n",
    "# path DatasetDict directory\n",
    "path_dataset_dict = os.path.join(path_cwd, \"datasets\", _name_dataset_and_folder)\n",
    "\n",
    "\"\"\"\n",
    "File paths\n",
    "\"\"\"\n",
    "path_meta_file = os.path.join(path_raw_data, _name_meta_file)"
   ]
  },
  {
   "cell_type": "markdown",
   "id": "d178c7ee-ad60-4f0c-a837-827466e2431c",
   "metadata": {},
   "source": [
    "# Load Meta Data"
   ]
  },
  {
   "cell_type": "code",
   "execution_count": 96,
   "id": "1176ff8d-0e43-4f50-8234-196f71a96ccd",
   "metadata": {},
   "outputs": [],
   "source": [
    "meta = pd.read_excel(path_meta_file)"
   ]
  },
  {
   "cell_type": "markdown",
   "id": "8b779503-d09d-430c-b082-5bc746810529",
   "metadata": {},
   "source": [
    "# Keep columns of interest"
   ]
  },
  {
   "cell_type": "code",
   "execution_count": 97,
   "id": "196d14a4-b57b-4760-936f-ddeab002855d",
   "metadata": {},
   "outputs": [],
   "source": [
    "meta.drop([col for col in meta.columns if col not in _coi], axis=1, inplace=True)"
   ]
  },
  {
   "cell_type": "markdown",
   "id": "260939a5-201a-49fe-ab13-f2b8c1c2ce53",
   "metadata": {},
   "source": [
    "# Number of files per class"
   ]
  },
  {
   "cell_type": "code",
   "execution_count": 98,
   "id": "a78fd60b-e454-4ca4-a3d8-c4d59bb6808f",
   "metadata": {},
   "outputs": [
    {
     "data": {
      "text/plain": [
       "Counter({1: 1257, 0: 1091})"
      ]
     },
     "execution_count": 98,
     "metadata": {},
     "output_type": "execute_result"
    }
   ],
   "source": [
    "count = Counter(meta[_col_label])\n",
    "count"
   ]
  },
  {
   "cell_type": "code",
   "execution_count": 99,
   "id": "bc780847-cf65-47d8-b17b-19b51bf49ca2",
   "metadata": {},
   "outputs": [
    {
     "data": {
      "text/html": [
       "<div>\n",
       "<style scoped>\n",
       "    .dataframe tbody tr th:only-of-type {\n",
       "        vertical-align: middle;\n",
       "    }\n",
       "\n",
       "    .dataframe tbody tr th {\n",
       "        vertical-align: top;\n",
       "    }\n",
       "\n",
       "    .dataframe thead th {\n",
       "        text-align: right;\n",
       "    }\n",
       "</style>\n",
       "<table border=\"1\" class=\"dataframe\">\n",
       "  <thead>\n",
       "    <tr style=\"text-align: right;\">\n",
       "      <th></th>\n",
       "      <th>filename</th>\n",
       "      <th>label</th>\n",
       "    </tr>\n",
       "  </thead>\n",
       "  <tbody>\n",
       "    <tr>\n",
       "      <th>0</th>\n",
       "      <td>62545838.txt</td>\n",
       "      <td>1</td>\n",
       "    </tr>\n",
       "    <tr>\n",
       "      <th>1</th>\n",
       "      <td>62429795.txt</td>\n",
       "      <td>1</td>\n",
       "    </tr>\n",
       "    <tr>\n",
       "      <th>2</th>\n",
       "      <td>62428876.txt</td>\n",
       "      <td>1</td>\n",
       "    </tr>\n",
       "    <tr>\n",
       "      <th>3</th>\n",
       "      <td>62405849.txt</td>\n",
       "      <td>1</td>\n",
       "    </tr>\n",
       "    <tr>\n",
       "      <th>4</th>\n",
       "      <td>62405848.txt</td>\n",
       "      <td>1</td>\n",
       "    </tr>\n",
       "    <tr>\n",
       "      <th>...</th>\n",
       "      <td>...</td>\n",
       "      <td>...</td>\n",
       "    </tr>\n",
       "    <tr>\n",
       "      <th>2343</th>\n",
       "      <td>LV0000100881_2012_AR_english_01.txt</td>\n",
       "      <td>0</td>\n",
       "    </tr>\n",
       "    <tr>\n",
       "      <th>2344</th>\n",
       "      <td>LV0000100949_2009_AR_english_01.txt</td>\n",
       "      <td>0</td>\n",
       "    </tr>\n",
       "    <tr>\n",
       "      <th>2345</th>\n",
       "      <td>NL0000289817_2005_AR_english_01.txt</td>\n",
       "      <td>0</td>\n",
       "    </tr>\n",
       "    <tr>\n",
       "      <th>2346</th>\n",
       "      <td>SI0031103805_2009_AR_english_01.txt</td>\n",
       "      <td>0</td>\n",
       "    </tr>\n",
       "    <tr>\n",
       "      <th>2347</th>\n",
       "      <td>SI0031103805_2012_AR_english_01.txt</td>\n",
       "      <td>0</td>\n",
       "    </tr>\n",
       "  </tbody>\n",
       "</table>\n",
       "<p>2348 rows × 2 columns</p>\n",
       "</div>"
      ],
      "text/plain": [
       "                                 filename  label\n",
       "0                            62545838.txt      1\n",
       "1                            62429795.txt      1\n",
       "2                            62428876.txt      1\n",
       "3                            62405849.txt      1\n",
       "4                            62405848.txt      1\n",
       "...                                   ...    ...\n",
       "2343  LV0000100881_2012_AR_english_01.txt      0\n",
       "2344  LV0000100949_2009_AR_english_01.txt      0\n",
       "2345  NL0000289817_2005_AR_english_01.txt      0\n",
       "2346  SI0031103805_2009_AR_english_01.txt      0\n",
       "2347  SI0031103805_2012_AR_english_01.txt      0\n",
       "\n",
       "[2348 rows x 2 columns]"
      ]
     },
     "execution_count": 99,
     "metadata": {},
     "output_type": "execute_result"
    }
   ],
   "source": [
    "meta"
   ]
  },
  {
   "cell_type": "markdown",
   "id": "5ff98f7c-be7f-45db-ac5d-63e62765f41c",
   "metadata": {},
   "source": [
    "# Path to file name"
   ]
  },
  {
   "cell_type": "code",
   "execution_count": 100,
   "id": "9e34e83d-7369-4513-a972-63fa5effd42b",
   "metadata": {},
   "outputs": [],
   "source": [
    "meta[_col_file] = meta.apply(lambda x: os.path.join(path_raw_data, x[_col_file]), axis=1)"
   ]
  },
  {
   "cell_type": "markdown",
   "id": "aa3a5c11-534c-4818-b91e-0eba828ac107",
   "metadata": {},
   "source": [
    "# Create splits"
   ]
  },
  {
   "cell_type": "code",
   "execution_count": 102,
   "id": "d6d4ab18-8e85-4aa6-83ef-463aebcb3397",
   "metadata": {},
   "outputs": [],
   "source": [
    "data_split = util.create_stratified_split(meta, _col_label, _split_sizes, _seed)"
   ]
  },
  {
   "cell_type": "markdown",
   "id": "7267718b-3b26-4fa1-a200-478ac7ad1203",
   "metadata": {},
   "source": [
    "# Parse Text Files"
   ]
  },
  {
   "cell_type": "code",
   "execution_count": 104,
   "id": "10d016a2-b2bd-4089-94ca-a9876eef3341",
   "metadata": {},
   "outputs": [],
   "source": [
    "for s in data_split:\n",
    "    # parse text file\n",
    "    data_split[s][\"text\"] = data_split[s][_col_path].apply(util.parse_txt)\n",
    "    # drop column with file path\n",
    "    data_split[s].drop([_col_path], axis=1, inplace=True)"
   ]
  },
  {
   "cell_type": "markdown",
   "id": "85a520c4-6478-4e40-9141-45b8748e89f3",
   "metadata": {},
   "source": [
    "# Remove rows with none-values - indicate a missing, corrupt, or empty file."
   ]
  },
  {
   "cell_type": "code",
   "execution_count": 105,
   "id": "c8fd8073-e5d4-4359-9de4-a905b9d64f53",
   "metadata": {},
   "outputs": [],
   "source": [
    "for s in data_split:\n",
    "    data_split[s].dropna(subset = [\"text\"], inplace=True)"
   ]
  },
  {
   "cell_type": "markdown",
   "id": "53e79494-f932-4c68-b49f-39d5b0789541",
   "metadata": {},
   "source": [
    "# Create Arrow Dataset"
   ]
  },
  {
   "cell_type": "code",
   "execution_count": 106,
   "id": "3062756c-4bc6-4fbd-a56d-b43987af1906",
   "metadata": {},
   "outputs": [],
   "source": [
    "dataset_dict = util.create_dataset_dict(data_split, [_col_label, \"text\"])"
   ]
  },
  {
   "cell_type": "code",
   "execution_count": 107,
   "id": "3d1e4f3e-3bbf-4c30-83ea-3026808b5a0f",
   "metadata": {},
   "outputs": [
    {
     "data": {
      "text/plain": [
       "DatasetDict({\n",
       "    train: Dataset({\n",
       "        features: ['label', 'text', '__index_level_0__'],\n",
       "        num_rows: 1632\n",
       "    })\n",
       "    validation: Dataset({\n",
       "        features: ['label', 'text', '__index_level_0__'],\n",
       "        num_rows: 348\n",
       "    })\n",
       "    test: Dataset({\n",
       "        features: ['label', 'text', '__index_level_0__'],\n",
       "        num_rows: 346\n",
       "    })\n",
       "})"
      ]
     },
     "execution_count": 107,
     "metadata": {},
     "output_type": "execute_result"
    }
   ],
   "source": [
    "dataset_dict"
   ]
  },
  {
   "cell_type": "markdown",
   "id": "e4e0d9e7-bfc3-4b23-aca5-e8cfab1718f0",
   "metadata": {},
   "source": [
    "# Export dataset"
   ]
  },
  {
   "cell_type": "markdown",
   "id": "4da4f1aa-7384-41e0-ae17-0b01b3f1891a",
   "metadata": {},
   "source": [
    "## Local Export"
   ]
  },
  {
   "cell_type": "code",
   "execution_count": 110,
   "id": "74f68ebe-d152-43bd-abc7-3f2ea2f1f148",
   "metadata": {},
   "outputs": [
    {
     "data": {
      "application/vnd.jupyter.widget-view+json": {
       "model_id": "de1b2c5c7293409d96c6f266348437e4",
       "version_major": 2,
       "version_minor": 0
      },
      "text/plain": [
       "Saving the dataset (0/1 shards):   0%|          | 0/1632 [00:00<?, ? examples/s]"
      ]
     },
     "metadata": {},
     "output_type": "display_data"
    },
    {
     "data": {
      "application/vnd.jupyter.widget-view+json": {
       "model_id": "49163e44a6274887811a4d7e17357ac5",
       "version_major": 2,
       "version_minor": 0
      },
      "text/plain": [
       "Saving the dataset (0/1 shards):   0%|          | 0/348 [00:00<?, ? examples/s]"
      ]
     },
     "metadata": {},
     "output_type": "display_data"
    },
    {
     "data": {
      "application/vnd.jupyter.widget-view+json": {
       "model_id": "7d42ad3986de4342b89cbcf0eda73b87",
       "version_major": 2,
       "version_minor": 0
      },
      "text/plain": [
       "Saving the dataset (0/1 shards):   0%|          | 0/346 [00:00<?, ? examples/s]"
      ]
     },
     "metadata": {},
     "output_type": "display_data"
    }
   ],
   "source": [
    "dataset_dict.save_to_disk(os.path.join(path_dataset_dict, _name_dataset_and_folder))"
   ]
  },
  {
   "cell_type": "markdown",
   "id": "3fe926e2-8b03-46fa-b3da-f838ec4a9547",
   "metadata": {},
   "source": [
    "## Export to HF Hub"
   ]
  },
  {
   "cell_type": "code",
   "execution_count": 114,
   "id": "2a48361d-72b0-4839-8d11-752b1bf6f8df",
   "metadata": {},
   "outputs": [
    {
     "data": {
      "application/vnd.jupyter.widget-view+json": {
       "model_id": "e5e5660746314c6fa9a1912224bacd25",
       "version_major": 2,
       "version_minor": 0
      },
      "text/plain": [
       "VBox(children=(HTML(value='<center> <img\\nsrc=https://huggingface.co/front/assets/huggingface_logo-noborder.sv…"
      ]
     },
     "metadata": {},
     "output_type": "display_data"
    }
   ],
   "source": [
    "# loging to hub\n",
    "login()"
   ]
  },
  {
   "cell_type": "code",
   "execution_count": 115,
   "id": "3f07dd2b-5700-42ec-8415-f5cf8c920c58",
   "metadata": {},
   "outputs": [],
   "source": [
    "# username HF Hub\n",
    "_user = \"IMN\"\n",
    "_HFHub_dataset = _user + \"/\" + \"test\""
   ]
  },
  {
   "cell_type": "code",
   "execution_count": 116,
   "id": "f9c37da9-d761-4b46-851f-30773b0f03e7",
   "metadata": {},
   "outputs": [
    {
     "data": {
      "application/vnd.jupyter.widget-view+json": {
       "model_id": "9b02202207ee4a9ca5b79d743dcbc698",
       "version_major": 2,
       "version_minor": 0
      },
      "text/plain": [
       "Uploading the dataset shards:   0%|          | 0/1 [00:00<?, ?it/s]"
      ]
     },
     "metadata": {},
     "output_type": "display_data"
    },
    {
     "data": {
      "application/vnd.jupyter.widget-view+json": {
       "model_id": "1c6a00fc8ff241008568c8d4bb9ede24",
       "version_major": 2,
       "version_minor": 0
      },
      "text/plain": [
       "Creating parquet from Arrow format:   0%|          | 0/2 [00:00<?, ?ba/s]"
      ]
     },
     "metadata": {},
     "output_type": "display_data"
    },
    {
     "data": {
      "application/vnd.jupyter.widget-view+json": {
       "model_id": "cf4264cd5c384472826400762eef61ba",
       "version_major": 2,
       "version_minor": 0
      },
      "text/plain": [
       "Uploading the dataset shards:   0%|          | 0/1 [00:00<?, ?it/s]"
      ]
     },
     "metadata": {},
     "output_type": "display_data"
    },
    {
     "data": {
      "application/vnd.jupyter.widget-view+json": {
       "model_id": "d6c21d6c09834f208661eefd949eb7cf",
       "version_major": 2,
       "version_minor": 0
      },
      "text/plain": [
       "Creating parquet from Arrow format:   0%|          | 0/1 [00:00<?, ?ba/s]"
      ]
     },
     "metadata": {},
     "output_type": "display_data"
    },
    {
     "data": {
      "application/vnd.jupyter.widget-view+json": {
       "model_id": "760dc3803a9b4a8eb27da65b90eae9e6",
       "version_major": 2,
       "version_minor": 0
      },
      "text/plain": [
       "Uploading the dataset shards:   0%|          | 0/1 [00:00<?, ?it/s]"
      ]
     },
     "metadata": {},
     "output_type": "display_data"
    },
    {
     "data": {
      "application/vnd.jupyter.widget-view+json": {
       "model_id": "d8cfa57417e1438ea4f5dbc98094ef87",
       "version_major": 2,
       "version_minor": 0
      },
      "text/plain": [
       "Creating parquet from Arrow format:   0%|          | 0/1 [00:00<?, ?ba/s]"
      ]
     },
     "metadata": {},
     "output_type": "display_data"
    },
    {
     "data": {
      "text/plain": [
       "CommitInfo(commit_url='https://huggingface.co/datasets/IMN/test/commit/20ce68d6d56e70aa4fc4c7244824b5669e35cd3b', commit_message='Upload dataset', commit_description='', oid='20ce68d6d56e70aa4fc4c7244824b5669e35cd3b', pr_url=None, pr_revision=None, pr_num=None)"
      ]
     },
     "execution_count": 116,
     "metadata": {},
     "output_type": "execute_result"
    }
   ],
   "source": [
    "dataset_dict.push_to_hub(_HFHub_dataset)"
   ]
  }
 ],
 "metadata": {
  "kernelspec": {
   "display_name": "venv_ml_bert",
   "language": "python",
   "name": "venv_ml_bert"
  },
  "language_info": {
   "codemirror_mode": {
    "name": "ipython",
    "version": 3
   },
   "file_extension": ".py",
   "mimetype": "text/x-python",
   "name": "python",
   "nbconvert_exporter": "python",
   "pygments_lexer": "ipython3",
   "version": "3.9.5"
  }
 },
 "nbformat": 4,
 "nbformat_minor": 5
}
